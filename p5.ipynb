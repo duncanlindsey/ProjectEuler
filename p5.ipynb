{
 "cells": [
  {
   "cell_type": "markdown",
   "metadata": {},
   "source": [
    "# Problem 5 - Smallest Common Multiple\n",
    "2520 is the smallest number that can be divided by each of the numbers from 1 to 10 without any remainder.\n",
    "What is the smallest positive number that is evenly divisible by all of the numbers from 1 to 20?\n",
    "## My Working\n",
    "Now, I have a hypothesis that the smallest common multiple will be the product of a set of prime factors, in which one may find all of the prime factors for each of the numbers 2 to 20. For example, take 20. Its set of prime factors is $[2,2,5]$. The smallest common multiple will, at the very least, be made up of a set of prime factors $[2,2,5,...]$. So we start by creating a function that returns the set of prime factors for any given integer. We pull a function from one of past solutions."
   ]
  },
  {
   "cell_type": "code",
   "execution_count": 15,
   "metadata": {},
   "outputs": [],
   "source": [
    "import collections as c"
   ]
  },
  {
   "cell_type": "code",
   "execution_count": 18,
   "metadata": {},
   "outputs": [],
   "source": [
    "def getPrimeFactors(n):\n",
    "    primes = []\n",
    "    i = 2\n",
    "    while i <= n:\n",
    "        if n % i == 0:\n",
    "            primes.append(i)\n",
    "            n = n/i\n",
    "        else:\n",
    "            i += 1\n",
    "            \n",
    "    # Modified to return a collection.Counter (for multiset treatment)\n",
    "    return c.Counter(primes)"
   ]
  },
  {
   "cell_type": "code",
   "execution_count": 19,
   "metadata": {},
   "outputs": [
    {
     "data": {
      "text/plain": [
       "Counter({2: 2, 5: 1})"
      ]
     },
     "execution_count": 19,
     "metadata": {},
     "output_type": "execute_result"
    }
   ],
   "source": [
    "# Checking the function with 20.\n",
    "getPrimeFactors(20)"
   ]
  },
  {
   "cell_type": "markdown",
   "metadata": {},
   "source": [
    "Now, I need to create a function that uses the above to compile a list of lists of prime factors, then isolates the set of common factors. I do this by creating sets (or multisets) of prime factors, then iterating through the list comparing each set with a master set and unioning the contents."
   ]
  },
  {
   "cell_type": "code",
   "execution_count": 26,
   "metadata": {},
   "outputs": [],
   "source": [
    "def getSmallestCommonMultiple(n):\n",
    "    \n",
    "    allprimes = []\n",
    "    scmPrimes = c.Counter()\n",
    "    scm = 1\n",
    "    \n",
    "    #First, build list of lists of prime factors.\n",
    "    for x in range(2, n+1):\n",
    "        allprimes.append(getPrimeFactors(x))\n",
    "    print (allprimes)\n",
    "        \n",
    "    for y in allprimes:\n",
    "        scmPrimes = scmPrimes | y\n",
    "    print (scmPrimes)\n",
    "        \n",
    "    for z in scmPrimes.elements():\n",
    "        scm = scm * z\n",
    "    \n",
    "    return scm"
   ]
  },
  {
   "cell_type": "code",
   "execution_count": 29,
   "metadata": {},
   "outputs": [
    {
     "name": "stdout",
     "output_type": "stream",
     "text": [
      "[Counter({2: 1}), Counter({3: 1}), Counter({2: 2}), Counter({5: 1}), Counter({2: 1, 3: 1}), Counter({7: 1}), Counter({2: 3}), Counter({3: 2}), Counter({2: 1, 5: 1}), Counter({11: 1}), Counter({2: 2, 3: 1}), Counter({13: 1}), Counter({2: 1, 7: 1}), Counter({3: 1, 5: 1}), Counter({2: 4}), Counter({17: 1}), Counter({3: 2, 2: 1}), Counter({19: 1}), Counter({2: 2, 5: 1})]\n",
      "Counter({2: 4, 3: 2, 5: 1, 7: 1, 11: 1, 13: 1, 17: 1, 19: 1})\n"
     ]
    },
    {
     "data": {
      "text/plain": [
       "232792560"
      ]
     },
     "execution_count": 29,
     "metadata": {},
     "output_type": "execute_result"
    }
   ],
   "source": [
    "getSmallestCommonMultiple(20)"
   ]
  },
  {
   "cell_type": "markdown",
   "metadata": {},
   "source": [
    "Answer correct! But what about the model answer...\n",
    "## Model Answer"
   ]
  }
 ],
 "metadata": {
  "kernelspec": {
   "display_name": "Python 3",
   "language": "python",
   "name": "python3"
  },
  "language_info": {
   "codemirror_mode": {
    "name": "ipython",
    "version": 3
   },
   "file_extension": ".py",
   "mimetype": "text/x-python",
   "name": "python",
   "nbconvert_exporter": "python",
   "pygments_lexer": "ipython3",
   "version": "3.6.4"
  }
 },
 "nbformat": 4,
 "nbformat_minor": 2
}
