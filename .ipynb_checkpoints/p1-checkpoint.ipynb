{
 "cells": [
  {
   "cell_type": "markdown",
   "metadata": {},
   "source": [
    "# Problem 4 - Largest Palindrome Product\n",
    "A palindromic number reads the same both ways. The largest palindrome made from the product of two 2-digit numbers is 9009 = 91 × 99. Find the largest palindrome made from the product of two 3-digit numbers.\n",
    "## My Working\n",
    "First, we need a way to test if a given number, $n$, is a Palindrome."
   ]
  },
  {
   "cell_type": "code",
   "execution_count": 2,
   "metadata": {},
   "outputs": [],
   "source": [
    "def isPalindrome(n):\n",
    "    nStr = str(n)\n",
    "    nMid = int(len(str(n))/2)\n",
    "    return nStr[:nMid] == nStr[::-1][:nMid]"
   ]
  },
  {
   "cell_type": "markdown",
   "metadata": {},
   "source": [
    "Second, we try a brute force method: testing all possible products of numbers between $1$ and $m$"
   ]
  },
  {
   "cell_type": "code",
   "execution_count": 15,
   "metadata": {},
   "outputs": [],
   "source": [
    "def largestPalindrome(m):\n",
    "    start = 10**(len(str(m))-1)  #Find the smallest number with the same number of digits as m\n",
    "    palindromes = [i * j for i in range(start, m + 1) for j in range(start, m + 1) if isPalindrome(i * j)]\n",
    "    return max(palindromes)"
   ]
  },
  {
   "cell_type": "code",
   "execution_count": 16,
   "metadata": {},
   "outputs": [
    {
     "name": "stdout",
     "output_type": "stream",
     "text": [
      "9009\n",
      "7.19 ms ± 407 µs per loop (mean ± std. dev. of 7 runs, 100 loops each)\n"
     ]
    }
   ],
   "source": [
    "print (largestPalindrome(99))\n",
    "%timeit largestPalindrome(99)"
   ]
  },
  {
   "cell_type": "code",
   "execution_count": 17,
   "metadata": {},
   "outputs": [
    {
     "name": "stdout",
     "output_type": "stream",
     "text": [
      "906609\n",
      "701 ms ± 10.6 ms per loop (mean ± std. dev. of 7 runs, 1 loop each)\n"
     ]
    }
   ],
   "source": [
    "print (largestPalindrome(999))\n",
    "%timeit largestPalindrome(999)"
   ]
  },
  {
   "cell_type": "markdown",
   "metadata": {},
   "source": [
    "This brute force function returns the correct answer, but is slowed by 2 orders of magnitude. Savings may be made by:\n",
    "<ol>\n",
    "    <li>Testing products in order of decreasing size and stopping at the first palindrome</li>\n",
    "    <li>Avoid double testing (e.g. $1*2$ and $2*1$)</li>\n",
    "    <li>Recognising that all palindromes are multiples of $11$ - if we are testing $i*j$, we can ignore all products where $i$ is not a multiple of $11$.</li>\n",
    "    </ol>"
   ]
  },
  {
   "cell_type": "markdown",
   "metadata": {},
   "source": [
    "We create a multiplication array to test how the product of two numbers vary in size."
   ]
  },
  {
   "cell_type": "code",
   "execution_count": 11,
   "metadata": {},
   "outputs": [
    {
     "name": "stdout",
     "output_type": "stream",
     "text": [
      "[[  1.   2.   3.   4.   5.   6.   7.   8.   9.  10.]\n",
      " [  2.   4.   6.   8.  10.  12.  14.  16.  18.  20.]\n",
      " [  3.   6.   9.  12.  15.  18.  21.  24.  27.  30.]\n",
      " [  4.   8.  12.  16.  20.  24.  28.  32.  36.  40.]\n",
      " [  5.  10.  15.  20.  25.  30.  35.  40.  45.  50.]\n",
      " [  6.  12.  18.  24.  30.  36.  42.  48.  54.  60.]\n",
      " [  7.  14.  21.  28.  35.  42.  49.  56.  63.  70.]\n",
      " [  8.  16.  24.  32.  40.  48.  56.  64.  72.  80.]\n",
      " [  9.  18.  27.  36.  45.  54.  63.  72.  81.  90.]\n",
      " [ 10.  20.  30.  40.  50.  60.  70.  80.  90. 100.]]\n"
     ]
    }
   ],
   "source": [
    "import numpy as np\n",
    "df = a = np.zeros(shape=(10,10))\n",
    "for i in range(1,11):\n",
    "    for j in range(1,11):\n",
    "        df[i-1,j-1]=i*j\n",
    "\n",
    "print (df)"
   ]
  },
  {
   "cell_type": "markdown",
   "metadata": {},
   "source": [
    "We note that we:\n",
    "<ul>\n",
    "    <li>need only consider one half of the matrix to avoid double counting</li>\n",
    "    <li>must follow a non-trivial (diagonal-esque) pattern to follow products in order of decreasing value</li>\n",
    "    <li>could reduce the number of elements along one axis of the matrix by factor $11$</li>\n",
    "    </ul>"
   ]
  },
  {
   "cell_type": "markdown",
   "metadata": {},
   "source": [
    "## The model answer\n"
   ]
  },
  {
   "cell_type": "code",
   "execution_count": 20,
   "metadata": {},
   "outputs": [
    {
     "name": "stdout",
     "output_type": "stream",
     "text": [
      "906609\n"
     ]
    }
   ],
   "source": [
    "def largestPalindromeModelAnswer():\n",
    "    largest = 0\n",
    "    a = 999\n",
    "    while a >= 100:\n",
    "        if a % 11 == 0:\n",
    "            b = 999\n",
    "            db = 1\n",
    "        else:\n",
    "            b = 990\n",
    "            db = 11\n",
    "            \n",
    "        while b >= a:\n",
    "            if a*b <= largest:\n",
    "                break #Since a*b is always going to be too small\n",
    "\n",
    "            if isPalindrome(a*b):\n",
    "                largest = a*b\n",
    "\n",
    "            b = b-db\n",
    "\n",
    "        a = a-1\n",
    "\n",
    "    return largest\n",
    "\n",
    "print (largestPalindromeModelAnswer())"
   ]
  },
  {
   "cell_type": "code",
   "execution_count": 21,
   "metadata": {},
   "outputs": [
    {
     "name": "stdout",
     "output_type": "stream",
     "text": [
      "635 µs ± 53 µs per loop (mean ± std. dev. of 7 runs, 1000 loops each)\n"
     ]
    }
   ],
   "source": [
    "%timeit largestPalindromeModelAnswer()"
   ]
  },
  {
   "cell_type": "markdown",
   "metadata": {},
   "source": [
    "The model answer addresses two of the possible improvements, namely the double-counting and the multiples of $11$. We might attempt to beat the model answer by cracking the non-trivial navigation through pairs..."
   ]
  },
  {
   "cell_type": "markdown",
   "metadata": {},
   "source": [
    "## Beating the model answer"
   ]
  }
 ],
 "metadata": {
  "kernelspec": {
   "display_name": "Python 3",
   "language": "python",
   "name": "python3"
  },
  "language_info": {
   "codemirror_mode": {
    "name": "ipython",
    "version": 3
   },
   "file_extension": ".py",
   "mimetype": "text/x-python",
   "name": "python",
   "nbconvert_exporter": "python",
   "pygments_lexer": "ipython3",
   "version": "3.6.4"
  }
 },
 "nbformat": 4,
 "nbformat_minor": 2
}
