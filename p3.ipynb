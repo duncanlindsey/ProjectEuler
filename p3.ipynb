{
 "cells": [
  {
   "cell_type": "markdown",
   "metadata": {},
   "source": [
    "# Problem 3 - Largest Prime Factor\n",
    "The prime factors of 13195 are 5, 7, 13 and 29. What is the largest prime factor of the number 600851475143?\n",
    "## My Working"
   ]
  },
  {
   "cell_type": "code",
   "execution_count": 1,
   "metadata": {},
   "outputs": [
    {
     "name": "stdout",
     "output_type": "stream",
     "text": [
      "6857\n"
     ]
    }
   ],
   "source": [
    "test = 600851475143\n",
    "\n",
    "def primeFactors(n):\n",
    "    primes = []\n",
    "    i = 2\n",
    "    while i <= n:\n",
    "        if n % i == 0:\n",
    "            primes.append(i)\n",
    "            n = n/i\n",
    "        else:\n",
    "            i += 1\n",
    "    return primes\n",
    "\n",
    "print (primeFactors(test)[-1])"
   ]
  },
  {
   "cell_type": "code",
   "execution_count": 2,
   "metadata": {},
   "outputs": [
    {
     "name": "stdout",
     "output_type": "stream",
     "text": [
      "992 µs ± 5.97 µs per loop (mean ± std. dev. of 7 runs, 1000 loops each)\n"
     ]
    }
   ],
   "source": [
    "%timeit primeFactors(test)[-1]"
   ]
  },
  {
   "cell_type": "markdown",
   "metadata": {},
   "source": [
    "## From the model answer\n",
    "Further improvable by:\n",
    "<ul>\n",
    "    <li> Treating i = 2 as a special case - incrementing through only odd numbers for i > 2</li>\n",
    "    <li> Setting the new maximum value for i to $\\sqrt{n}$, recognising that no number n can have, at most, 1 prime factor greater than $\\sqrt{n}$ </li></ul>"
   ]
  },
  {
   "cell_type": "code",
   "execution_count": 3,
   "metadata": {},
   "outputs": [
    {
     "name": "stdout",
     "output_type": "stream",
     "text": [
      "[71, 839, 1471, 6857]\n"
     ]
    }
   ],
   "source": [
    "def primeFactors2(n):\n",
    "    \n",
    "    primes = []\n",
    "    i = 2\n",
    "    iMax = n**(1/2)\n",
    "    iters = 0\n",
    "    \n",
    "    #Treat i = 2\n",
    "    while i == 2:\n",
    "        iters += 1\n",
    "        if n % 2 == 0:\n",
    "            primes.append(2)\n",
    "            n = n/2\n",
    "        else:\n",
    "            i += 1\n",
    "        \n",
    "\n",
    "    #Treat i > 2\n",
    "    while i <= n**(1/2):\n",
    "        iters += 1\n",
    "        if n % i == 0:\n",
    "            primes.append(i)\n",
    "            n = n/i\n",
    "        else:\n",
    "            i += 2\n",
    "    \n",
    "    if n > 1:\n",
    "        primes.append(int(n))\n",
    "        \n",
    "    #print ('Interations: %s' % iters)\n",
    "    \n",
    "    return primes\n",
    "\n",
    "print (primeFactors2(test))     \n",
    "        "
   ]
  },
  {
   "cell_type": "code",
   "execution_count": 4,
   "metadata": {},
   "outputs": [
    {
     "name": "stdout",
     "output_type": "stream",
     "text": [
      "228 µs ± 9.7 µs per loop (mean ± std. dev. of 7 runs, 1000 loops each)\n"
     ]
    }
   ],
   "source": [
    "%timeit primeFactors2(test)"
   ]
  },
  {
   "cell_type": "markdown",
   "metadata": {},
   "source": [
    "## Attempting a recursive function"
   ]
  },
  {
   "cell_type": "code",
   "execution_count": 5,
   "metadata": {},
   "outputs": [
    {
     "name": "stdout",
     "output_type": "stream",
     "text": [
      "6857\n"
     ]
    }
   ],
   "source": [
    "def largestPrimeFactor(n, i = 2):\n",
    "\n",
    "    if i < n**(1/2):\n",
    "        if n % i == 0:\n",
    "            return largestPrimeFactor(n/i, i)\n",
    "        if i > 2: \n",
    "            return largestPrimeFactor(n, i+2)\n",
    "        return largestPrimeFactor(n, i+1)\n",
    "    return int(n)\n",
    "\n",
    "print (largestPrimeFactor(test))"
   ]
  },
  {
   "cell_type": "code",
   "execution_count": 6,
   "metadata": {},
   "outputs": [
    {
     "name": "stdout",
     "output_type": "stream",
     "text": [
      "304 µs ± 12.5 µs per loop (mean ± std. dev. of 7 runs, 1000 loops each)\n"
     ]
    }
   ],
   "source": [
    "%timeit largestPrimeFactor(test)"
   ]
  },
  {
   "cell_type": "markdown",
   "metadata": {},
   "source": [
    "Epic winning! My first recursive function, integrats both improvements and close to outperforms others on speed."
   ]
  }
 ],
 "metadata": {
  "kernelspec": {
   "display_name": "Python 3",
   "language": "python",
   "name": "python3"
  },
  "language_info": {
   "codemirror_mode": {
    "name": "ipython",
    "version": 3
   },
   "file_extension": ".py",
   "mimetype": "text/x-python",
   "name": "python",
   "nbconvert_exporter": "python",
   "pygments_lexer": "ipython3",
   "version": "3.6.4"
  }
 },
 "nbformat": 4,
 "nbformat_minor": 2
}
